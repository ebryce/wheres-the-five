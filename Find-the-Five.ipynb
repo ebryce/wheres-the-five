{
 "cells": [
  {
   "cell_type": "code",
   "execution_count": 29,
   "metadata": {},
   "outputs": [],
   "source": [
    "from importlib import reload\n",
    "import sys\n",
    "\n",
    "import numpy as np\n",
    "import matplotlib.pyplot as plt\n",
    "import pandas as pd"
   ]
  },
  {
   "cell_type": "code",
   "execution_count": 17,
   "metadata": {},
   "outputs": [
    {
     "data": {
      "text/plain": [
       "<module 'nextbus' from 'C:\\\\Users\\\\bryce\\\\OneDrive\\\\Documents\\\\Projects\\\\Python\\\\Where-Is-The-5\\\\nextbus.py'>"
      ]
     },
     "execution_count": 17,
     "metadata": {},
     "output_type": "execute_result"
    }
   ],
   "source": [
    "import nextbus as nb\n",
    "reload(nb)"
   ]
  },
  {
   "cell_type": "code",
   "execution_count": 37,
   "metadata": {},
   "outputs": [],
   "source": [
    "predictions = nb.get_predictions(stop_id=10789)\n",
    "locations = []\n",
    "for vehicle in predictions['vehicle'].unique():\n",
    "    locations.append(nb.get_vehicle_location(r=5, v=vehicle))\n",
    "locations = pd.concat(locations)"
   ]
  },
  {
   "cell_type": "code",
   "execution_count": 45,
   "metadata": {},
   "outputs": [],
   "source": [
    "import shapefile\n",
    "\n",
    "sf = shapefile.Reader(\"centreline/CENTRELINE_WGS84.shp\")\n",
    "\n",
    "routes_of_interest = ['University Ave','Oriole Pkwy', 'Eglinton Ave W', 'Eglinton Ave E', 'Lonsdale Rd',\n",
    "                      'Avenue Rd', \"Queen's Park Cres W\", \"Queen's Park Cres E\", \"Queen's Park\", 'Yonge St',\n",
    "                     'College St']\n",
    "shapes_of_interest = []\n",
    "all_routes = []\n",
    "for shape in sf.shapeRecords():\n",
    "    all_routes.append(shape.record[2])\n",
    "    if shape.record[2] in routes_of_interest:\n",
    "        shapes_of_interest.append(shape)\n",
    "        \n",
    "all_routes = list(set(all_routes))"
   ]
  },
  {
   "cell_type": "code",
   "execution_count": 74,
   "metadata": {},
   "outputs": [
    {
     "data": {
      "image/png": "[encoded data removed]",
      "text/plain": [
       "<Figure size 720x720 with 1 Axes>"
      ]
     },
     "metadata": {},
     "output_type": "display_data"
    }
   ],
   "source": [
    "figsize = [10,10]\n",
    "plt.figure(figsize=figsize)\n",
    "aspect_ratio = figsize[1]/figsize[0]\n",
    "\n",
    "# Plot the map\n",
    "for shape in shapes_of_interest:\n",
    "    x = [i[0] for i in shape.shape.points[:]]\n",
    "    y = [i[1] for i in shape.shape.points[:]]\n",
    "    plt.plot(x,y, color='black')\n",
    "\n",
    "for i, location in locations.iterrows():\n",
    "    plt.scatter(location['lon'],location['lat'])\n",
    "\n",
    "delta = 0.1\n",
    "\n",
    "x_mid = -79.4\n",
    "y_mid = 43.66\n",
    "\n",
    "#plt.xlim(x_mid-delta, x_mid+delta)\n",
    "#plt.ylim(y_mid-(delta*aspect_ratio),y_mid+(delta*aspect_ratio))\n",
    "    \n",
    "plt.show()"
   ]
  },
  {
   "cell_type": "code",
   "execution_count": 70,
   "metadata": {},
   "outputs": [
    {
     "name": "stdout",
     "output_type": "stream",
     "text": [
      "id                        1233\n",
      "routeTag                     5\n",
      "dirTag                  5_1_5A\n",
      "lat                 43.6932146\n",
      "lon                -79.4016636\n",
      "secsSinceReport             15\n",
      "predictable               true\n",
      "heading                    345\n",
      "speedKmHr                   31\n",
      "Name: 0, dtype: object\n",
      "id                        1346\n",
      "routeTag                     5\n",
      "dirTag                  5_0_5A\n",
      "lat                 43.6967035\n",
      "lon                -79.4028167\n",
      "secsSinceReport             15\n",
      "predictable               true\n",
      "heading                    165\n",
      "speedKmHr                    7\n",
      "Name: 0, dtype: object\n"
     ]
    }
   ],
   "source": []
  },
  {
   "cell_type": "code",
   "execution_count": 68,
   "metadata": {},
   "outputs": [
    {
     "name": "stdout",
     "output_type": "stream",
     "text": [
      "          lat          lon\n",
      "0  43.6932146  -79.4016636\n",
      "0  43.6967035  -79.4028167\n",
      "[-79.308309117, -79.308110464, -79.307495593]\n",
      "[43.725245172, 43.725213829, 43.725122782]\n"
     ]
    }
   ],
   "source": [
    "print(locations[['lat','lon']])\n",
    "print(x)\n",
    "print(y)"
   ]
  }
 ],
 "metadata": {
  "kernelspec": {
   "display_name": "Python 3",
   "language": "python",
   "name": "python3"
  },
  "language_info": {
   "codemirror_mode": {
    "name": "ipython",
    "version": 3
   },
   "file_extension": ".py",
   "mimetype": "text/x-python",
   "name": "python",
   "nbconvert_exporter": "python",
   "pygments_lexer": "ipython3",
   "version": "3.6.5"
  }
 },
 "nbformat": 4,
 "nbformat_minor": 2
}
